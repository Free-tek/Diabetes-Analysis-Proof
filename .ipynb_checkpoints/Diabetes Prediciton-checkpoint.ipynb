{
 "cells": [
  {
   "cell_type": "markdown",
   "metadata": {},
   "source": [
    "# IMPORT LIBRARIES"
   ]
  },
  {
   "cell_type": "code",
   "execution_count": 1,
   "metadata": {},
   "outputs": [],
   "source": [
    "import numpy as np\n",
    "import pandas as pd\n",
    "import matplotlib.pyplot as plt\n",
    "import seaborn as sns\n",
    "import sklearn\n",
    "from sklearn.preprocessing import StandardScaler\n",
    "from sklearn.model_selection import cross_val_predict\n",
    "from sklearn.metrics import confusion_matrix\n",
    "from sklearn.metrics import f1_score\n",
    "from sklearn.metrics import precision_recall_fscore_support"
   ]
  },
  {
   "cell_type": "markdown",
   "metadata": {},
   "source": [
    "# IMPORT DATASET"
   ]
  },
  {
   "cell_type": "code",
   "execution_count": 3,
   "metadata": {},
   "outputs": [],
   "source": [
    "df = pd.read_csv('diabetics_data.csv')"
   ]
  },
  {
   "cell_type": "code",
   "execution_count": null,
   "metadata": {
    "scrolled": false
   },
   "outputs": [],
   "source": [
    "df.head()"
   ]
  },
  {
   "cell_type": "code",
   "execution_count": null,
   "metadata": {},
   "outputs": [],
   "source": [
    "df.columns = df.iloc[0]"
   ]
  },
  {
   "cell_type": "code",
   "execution_count": null,
   "metadata": {},
   "outputs": [],
   "source": [
    "df = df.drop(df.index[0])"
   ]
  },
  {
   "cell_type": "code",
   "execution_count": null,
   "metadata": {},
   "outputs": [],
   "source": [
    "df.head()"
   ]
  },
  {
   "cell_type": "code",
   "execution_count": null,
   "metadata": {},
   "outputs": [],
   "source": [
    "df.describe()"
   ]
  },
  {
   "cell_type": "code",
   "execution_count": null,
   "metadata": {
    "scrolled": false
   },
   "outputs": [],
   "source": [
    "df.count()"
   ]
  },
  {
   "cell_type": "code",
   "execution_count": null,
   "metadata": {
    "scrolled": true
   },
   "outputs": [],
   "source": [
    "df.isnull().values.ravel().sum()"
   ]
  },
  {
   "cell_type": "raw",
   "metadata": {},
   "source": [
    "193 rows in total have missing data, we cannnot afford to drop them all"
   ]
  },
  {
   "cell_type": "code",
   "execution_count": null,
   "metadata": {},
   "outputs": [],
   "source": [
    "columns = list(df.columns)"
   ]
  },
  {
   "cell_type": "code",
   "execution_count": null,
   "metadata": {
    "scrolled": true
   },
   "outputs": [],
   "source": [
    "columns"
   ]
  },
  {
   "cell_type": "markdown",
   "metadata": {},
   "source": [
    "# Fill missing values with mean"
   ]
  },
  {
   "cell_type": "code",
   "execution_count": null,
   "metadata": {},
   "outputs": [],
   "source": [
    "df = df.fillna(df.mean())"
   ]
  },
  {
   "cell_type": "code",
   "execution_count": null,
   "metadata": {},
   "outputs": [],
   "source": [
    "df.describe()"
   ]
  },
  {
   "cell_type": "markdown",
   "metadata": {},
   "source": [
    "# VISUALIZATION"
   ]
  },
  {
   "cell_type": "code",
   "execution_count": null,
   "metadata": {},
   "outputs": [],
   "source": [
    "pd.crosstab([df['Fasting Blood Glucose']],df['Result']).style.background_gradient(cmap='summer_r')"
   ]
  },
  {
   "cell_type": "code",
   "execution_count": null,
   "metadata": {
    "scrolled": true
   },
   "outputs": [],
   "source": [
    "_min = df['Fasting Blood Glucose'].min()\n",
    "_max = df['Fasting Blood Glucose'].max()\n",
    "print(f\"Min fasting blood sugar is {_min} and maximum is {_max}\")"
   ]
  },
  {
   "cell_type": "code",
   "execution_count": null,
   "metadata": {},
   "outputs": [],
   "source": [
    "#divide Fasting Blood Glucose into 5 bands and visualize\n",
    "df['Fasting Blood Glucose_band'] = pd.qcut(df['Fasting Blood Glucose'], 5, labels = False)\n",
    "pd.qcut(df['Fasting Blood Glucose'], q=5)"
   ]
  },
  {
   "cell_type": "markdown",
   "metadata": {},
   "source": [
    "# Fasting Blood Glucose VS Result"
   ]
  },
  {
   "cell_type": "code",
   "execution_count": null,
   "metadata": {},
   "outputs": [],
   "source": [
    "fig_dims = (30, 30)\n",
    "fig, ax = plt.subplots(figsize=fig_dims)\n",
    "sns.countplot(df['Fasting Blood Glucose_band'],hue='Result',data=df)\n",
    "plt.show()"
   ]
  },
  {
   "cell_type": "raw",
   "metadata": {},
   "source": [
    "No need for feature scaling because Random forest unlike Knnearest neighbour, Kmeans or PCA do not require \n",
    "feature scaling because they are nnot space based\n"
   ]
  },
  {
   "cell_type": "code",
   "execution_count": null,
   "metadata": {},
   "outputs": [],
   "source": []
  },
  {
   "cell_type": "code",
   "execution_count": null,
   "metadata": {},
   "outputs": [],
   "source": [
    "pd.crosstab([df['Hct']],df['Result']).style.background_gradient(cmap='summer_r')"
   ]
  },
  {
   "cell_type": "code",
   "execution_count": null,
   "metadata": {},
   "outputs": [],
   "source": [
    "_min = df['Hct'].min()\n",
    "_max = df['Hct'].max()\n",
    "print(f\"Min Hct is {_min} and maximum is {_max}\")"
   ]
  },
  {
   "cell_type": "code",
   "execution_count": null,
   "metadata": {},
   "outputs": [],
   "source": [
    "#divide Hct into 5 bands and visualize\n",
    "df['Hct_band'] = pd.qcut(df['Hct'], 5, labels = False)\n",
    "pd.qcut(df['Hct'], q=5)"
   ]
  },
  {
   "cell_type": "markdown",
   "metadata": {},
   "source": [
    "# Hct vs Result"
   ]
  },
  {
   "cell_type": "code",
   "execution_count": null,
   "metadata": {},
   "outputs": [],
   "source": [
    "fig_dims = (30, 30)\n",
    "fig, ax = plt.subplots(figsize=fig_dims)\n",
    "sns.countplot(df['Hct_band'],hue='Result',data=df)\n",
    "plt.show()"
   ]
  },
  {
   "cell_type": "code",
   "execution_count": null,
   "metadata": {},
   "outputs": [],
   "source": []
  },
  {
   "cell_type": "code",
   "execution_count": null,
   "metadata": {},
   "outputs": [],
   "source": [
    "pd.crosstab([df['Hgb']],df['Result']).style.background_gradient(cmap='summer_r')"
   ]
  },
  {
   "cell_type": "code",
   "execution_count": null,
   "metadata": {},
   "outputs": [],
   "source": [
    "_min = df['Hgb'].min()\n",
    "_max = df['Hgb'].max()\n",
    "print(f\"Min Hgb is {_min} and maximum is {_max}\")"
   ]
  },
  {
   "cell_type": "code",
   "execution_count": null,
   "metadata": {},
   "outputs": [],
   "source": [
    "#divide Hct into 5 bands and visualize\n",
    "df['Hgb_band'] = pd.qcut(df['Hgb'], 5, labels = False)\n",
    "pd.qcut(df['Hgb'], q=5)"
   ]
  },
  {
   "cell_type": "markdown",
   "metadata": {},
   "source": [
    "# Hgb vs Result"
   ]
  },
  {
   "cell_type": "code",
   "execution_count": null,
   "metadata": {},
   "outputs": [],
   "source": [
    "fig_dims = (30, 30)\n",
    "fig, ax = plt.subplots(figsize=fig_dims)\n",
    "sns.countplot(df['Hgb_band'],hue='Result',data=df)\n",
    "plt.show()"
   ]
  },
  {
   "cell_type": "code",
   "execution_count": null,
   "metadata": {},
   "outputs": [],
   "source": []
  },
  {
   "cell_type": "code",
   "execution_count": null,
   "metadata": {},
   "outputs": [],
   "source": [
    "pd.crosstab([df['Mch']],df['Result']).style.background_gradient(cmap='summer_r')"
   ]
  },
  {
   "cell_type": "code",
   "execution_count": null,
   "metadata": {},
   "outputs": [],
   "source": [
    "_min = df['Mch'].min()\n",
    "_max = df['Mch'].max()\n",
    "print(f\"Min Mch is {_min} and maximum is {_max}\")"
   ]
  },
  {
   "cell_type": "code",
   "execution_count": null,
   "metadata": {},
   "outputs": [],
   "source": [
    "#divide Hct into 5 bands and visualize\n",
    "df['Mch_band'] = pd.qcut(df['Mch'], 5, labels = False)\n",
    "pd.qcut(df['Mch'], q=5)"
   ]
  },
  {
   "cell_type": "markdown",
   "metadata": {},
   "source": [
    "# Mch vs Result"
   ]
  },
  {
   "cell_type": "code",
   "execution_count": null,
   "metadata": {},
   "outputs": [],
   "source": [
    "fig_dims = (30, 30)\n",
    "fig, ax = plt.subplots(figsize=fig_dims)\n",
    "sns.countplot(df['Mch_band'],hue='Result',data=df)\n",
    "plt.show()"
   ]
  },
  {
   "cell_type": "code",
   "execution_count": null,
   "metadata": {},
   "outputs": [],
   "source": []
  },
  {
   "cell_type": "code",
   "execution_count": null,
   "metadata": {},
   "outputs": [],
   "source": [
    "pd.crosstab([df['Mchc']],df['Result']).style.background_gradient(cmap='summer_r')"
   ]
  },
  {
   "cell_type": "code",
   "execution_count": null,
   "metadata": {},
   "outputs": [],
   "source": [
    "_min = df['Mchc'].min()\n",
    "_max = df['Mchc'].max()\n",
    "print(f\"Min Mchc is {_min} and maximum is {_max}\")"
   ]
  },
  {
   "cell_type": "code",
   "execution_count": null,
   "metadata": {},
   "outputs": [],
   "source": [
    "#divide Hct into 5 bands and visualize\n",
    "df['Mchc_band'] = pd.qcut(df['Mchc'], 5, labels = False)\n",
    "pd.qcut(df['Mchc'], q=5)"
   ]
  },
  {
   "cell_type": "markdown",
   "metadata": {},
   "source": [
    "# Mchc vs Result"
   ]
  },
  {
   "cell_type": "code",
   "execution_count": null,
   "metadata": {
    "scrolled": true
   },
   "outputs": [],
   "source": [
    "fig_dims = (30, 30)\n",
    "fig, ax = plt.subplots(figsize=fig_dims)\n",
    "sns.countplot(df['Mchc_band'],hue='Result',data=df)\n",
    "plt.show()"
   ]
  },
  {
   "cell_type": "code",
   "execution_count": null,
   "metadata": {},
   "outputs": [],
   "source": []
  },
  {
   "cell_type": "code",
   "execution_count": null,
   "metadata": {},
   "outputs": [],
   "source": [
    "pd.crosstab([df['Mcv']],df['Result']).style.background_gradient(cmap='summer_r')"
   ]
  },
  {
   "cell_type": "code",
   "execution_count": null,
   "metadata": {},
   "outputs": [],
   "source": [
    "_min = df['Mcv'].min()\n",
    "_max = df['Mcv'].max()\n",
    "print(f\"Min Mcv is {_min} and maximum is {_max}\")"
   ]
  },
  {
   "cell_type": "code",
   "execution_count": null,
   "metadata": {},
   "outputs": [],
   "source": [
    "#divide Hct into 5 bands and visualize\n",
    "df['Mcv_band'] = pd.qcut(df['Mcv'], 5, labels = False)\n",
    "pd.qcut(df['Mcv'], q=5)"
   ]
  },
  {
   "cell_type": "markdown",
   "metadata": {},
   "source": [
    "# Mcv vs Result"
   ]
  },
  {
   "cell_type": "code",
   "execution_count": null,
   "metadata": {
    "scrolled": true
   },
   "outputs": [],
   "source": [
    "fig_dims = (30, 30)\n",
    "fig, ax = plt.subplots(figsize=fig_dims)\n",
    "sns.countplot(df['Mcv_band'],hue='Result',data=df)\n",
    "plt.show()\n"
   ]
  },
  {
   "cell_type": "code",
   "execution_count": null,
   "metadata": {},
   "outputs": [],
   "source": []
  },
  {
   "cell_type": "code",
   "execution_count": null,
   "metadata": {},
   "outputs": [],
   "source": [
    "pd.crosstab([df['Pdw']],df['Result']).style.background_gradient(cmap='summer_r')"
   ]
  },
  {
   "cell_type": "code",
   "execution_count": null,
   "metadata": {},
   "outputs": [],
   "source": [
    "_min = df['Pdw'].min()\n",
    "_max = df['Pdw'].max()\n",
    "print(f\"Min Pdw is {_min} and maximum is {_max}\")"
   ]
  },
  {
   "cell_type": "code",
   "execution_count": null,
   "metadata": {},
   "outputs": [],
   "source": [
    "#divide Pdw into 5 bands and visualize\n",
    "df['Pdw_band'] = pd.qcut(df['Pdw'], 5, labels = False)\n",
    "pd.qcut(df['Pdw'], q=5)"
   ]
  },
  {
   "cell_type": "markdown",
   "metadata": {},
   "source": [
    "# Pdw vs Result"
   ]
  },
  {
   "cell_type": "code",
   "execution_count": null,
   "metadata": {
    "scrolled": true
   },
   "outputs": [],
   "source": [
    "fig_dims = (30, 30)\n",
    "fig, ax = plt.subplots(figsize=fig_dims)\n",
    "sns.countplot(df['Pdw_band'],hue='Result',data=df)\n",
    "plt.show()"
   ]
  },
  {
   "cell_type": "code",
   "execution_count": null,
   "metadata": {},
   "outputs": [],
   "source": []
  },
  {
   "cell_type": "code",
   "execution_count": null,
   "metadata": {},
   "outputs": [],
   "source": [
    "pd.crosstab([df['Plt']],df['Result']).style.background_gradient(cmap='summer_r')"
   ]
  },
  {
   "cell_type": "code",
   "execution_count": null,
   "metadata": {},
   "outputs": [],
   "source": [
    "_min = df['Plt'].min()\n",
    "_max = df['Plt'].max()\n",
    "print(f\"Min Plt is {_min} and maximum is {_max}\")"
   ]
  },
  {
   "cell_type": "code",
   "execution_count": null,
   "metadata": {},
   "outputs": [],
   "source": [
    "#divide Plt into 5 bands and visualize\n",
    "df['Plt_band'] = pd.qcut(df['Plt'], 5, labels = False)\n",
    "pd.qcut(df['Plt'], q=5)"
   ]
  },
  {
   "cell_type": "markdown",
   "metadata": {},
   "source": [
    "# Plt vs Result"
   ]
  },
  {
   "cell_type": "code",
   "execution_count": null,
   "metadata": {
    "scrolled": true
   },
   "outputs": [],
   "source": [
    "fig_dims = (30, 30)\n",
    "fig, ax = plt.subplots(figsize=fig_dims)\n",
    "sns.countplot(df['Plt_band'],hue='Result',data=df)\n",
    "plt.show()"
   ]
  },
  {
   "cell_type": "code",
   "execution_count": null,
   "metadata": {},
   "outputs": [],
   "source": []
  },
  {
   "cell_type": "code",
   "execution_count": null,
   "metadata": {},
   "outputs": [],
   "source": [
    "pd.crosstab([df['Rbc']],df['Result']).style.background_gradient(cmap='summer_r')"
   ]
  },
  {
   "cell_type": "code",
   "execution_count": null,
   "metadata": {},
   "outputs": [],
   "source": [
    "_min = df['Rbc'].min()\n",
    "_max = df['Rbc'].max()\n",
    "print(f\"Min Rbc is {_min} and maximum is {_max}\")"
   ]
  },
  {
   "cell_type": "code",
   "execution_count": null,
   "metadata": {},
   "outputs": [],
   "source": [
    "#divide Rbc into 5 bands and visualize\n",
    "df['Rbc_band'] = pd.qcut(df['Rbc'], 5, labels = False)\n",
    "pd.qcut(df['Rbc'], q=5)"
   ]
  },
  {
   "cell_type": "markdown",
   "metadata": {},
   "source": [
    "# Rbc vs Result"
   ]
  },
  {
   "cell_type": "code",
   "execution_count": null,
   "metadata": {
    "scrolled": true
   },
   "outputs": [],
   "source": [
    "fig_dims = (30, 30)\n",
    "fig, ax = plt.subplots(figsize=fig_dims)\n",
    "sns.countplot(df['Rbc_band'],hue='Result',data=df)\n",
    "plt.show()"
   ]
  },
  {
   "cell_type": "code",
   "execution_count": null,
   "metadata": {},
   "outputs": [],
   "source": []
  },
  {
   "cell_type": "code",
   "execution_count": null,
   "metadata": {},
   "outputs": [],
   "source": [
    "pd.crosstab([df['Rdw-Cv']],df['Result']).style.background_gradient(cmap='summer_r')"
   ]
  },
  {
   "cell_type": "code",
   "execution_count": null,
   "metadata": {},
   "outputs": [],
   "source": [
    "_min = df['Rdw-Cv'].min()\n",
    "_max = df['Rdw-Cv'].max()\n",
    "print(f\"Min Rdw-Cv is {_min} and maximum is {_max}\")"
   ]
  },
  {
   "cell_type": "code",
   "execution_count": null,
   "metadata": {},
   "outputs": [],
   "source": [
    "#divide Rdw-Cv into 5 bands and visualize\n",
    "df['Rdw-Cv_band'] = pd.qcut(df['Rdw-Cv'], 5, labels = False)\n",
    "pd.qcut(df['Rdw-Cv'], q=5)"
   ]
  },
  {
   "cell_type": "markdown",
   "metadata": {},
   "source": [
    "# Rdw-Cv vs Result"
   ]
  },
  {
   "cell_type": "code",
   "execution_count": null,
   "metadata": {
    "scrolled": true
   },
   "outputs": [],
   "source": [
    "fig_dims = (30, 30)\n",
    "fig, ax = plt.subplots(figsize=fig_dims)\n",
    "sns.countplot(df['Rdw-Cv_band'],hue='Result',data=df)\n",
    "plt.show()"
   ]
  },
  {
   "cell_type": "code",
   "execution_count": null,
   "metadata": {},
   "outputs": [],
   "source": []
  },
  {
   "cell_type": "code",
   "execution_count": null,
   "metadata": {},
   "outputs": [],
   "source": [
    "pd.crosstab([df['Rdw-Sd']],df['Result']).style.background_gradient(cmap='summer_r')"
   ]
  },
  {
   "cell_type": "code",
   "execution_count": null,
   "metadata": {},
   "outputs": [],
   "source": [
    "_min = df['Rdw-Sd'].min()\n",
    "_max = df['Rdw-Sd'].max()\n",
    "print(f\"Min Rdw-Sd is {_min} and maximum is {_max}\")"
   ]
  },
  {
   "cell_type": "code",
   "execution_count": null,
   "metadata": {},
   "outputs": [],
   "source": [
    "#divide Rdw-Sd into 5 bands and visualize\n",
    "df['Rdw-Sd_band'] = pd.qcut(df['Rdw-Sd'], 5, labels = False)\n",
    "pd.qcut(df['Rdw-Sd'], q=5)"
   ]
  },
  {
   "cell_type": "markdown",
   "metadata": {},
   "source": [
    "# Rdw-Sd vs Result"
   ]
  },
  {
   "cell_type": "code",
   "execution_count": null,
   "metadata": {
    "scrolled": true
   },
   "outputs": [],
   "source": [
    "fig_dims = (30, 30)\n",
    "fig, ax = plt.subplots(figsize=fig_dims)\n",
    "sns.countplot(df['Rdw-Sd_band'],hue='Result',data=df)\n",
    "plt.show()"
   ]
  },
  {
   "cell_type": "code",
   "execution_count": null,
   "metadata": {},
   "outputs": [],
   "source": []
  },
  {
   "cell_type": "code",
   "execution_count": null,
   "metadata": {},
   "outputs": [],
   "source": [
    "pd.crosstab([df['Wbc']],df['Result']).style.background_gradient(cmap='summer_r')"
   ]
  },
  {
   "cell_type": "code",
   "execution_count": null,
   "metadata": {},
   "outputs": [],
   "source": [
    "_min = df['Wbc'].min()\n",
    "_max = df['Wbc'].max()\n",
    "print(f\"Min Wbc is {_min} and maximum is {_max}\")"
   ]
  },
  {
   "cell_type": "code",
   "execution_count": null,
   "metadata": {},
   "outputs": [],
   "source": [
    "#divide Wbc into 5 bands and visualize\n",
    "df['Wbc_band'] = pd.qcut(df['Wbc'], 5, labels = False)\n",
    "pd.qcut(df['Wbc'], q=5)"
   ]
  },
  {
   "cell_type": "markdown",
   "metadata": {},
   "source": [
    "# Wbc vs Result"
   ]
  },
  {
   "cell_type": "code",
   "execution_count": null,
   "metadata": {
    "scrolled": true
   },
   "outputs": [],
   "source": [
    "fig_dims = (30, 30)\n",
    "fig, ax = plt.subplots(figsize=fig_dims)\n",
    "sns.countplot(df['Wbc_band'],hue='Result',data=df)\n",
    "plt.show()"
   ]
  },
  {
   "cell_type": "markdown",
   "metadata": {},
   "source": [
    "# One Hot Encoding of Results Feature"
   ]
  },
  {
   "cell_type": "code",
   "execution_count": null,
   "metadata": {},
   "outputs": [],
   "source": [
    "from sklearn.preprocessing import LabelBinarizer"
   ]
  },
  {
   "cell_type": "code",
   "execution_count": null,
   "metadata": {},
   "outputs": [],
   "source": [
    "lb = LabelBinarizer()\n",
    "df['Result'] = lb.fit_transform(df['Result'])"
   ]
  },
  {
   "cell_type": "markdown",
   "metadata": {},
   "source": [
    "# Correlation Matrix"
   ]
  },
  {
   "cell_type": "code",
   "execution_count": null,
   "metadata": {},
   "outputs": [],
   "source": [
    "sns.heatmap(df.corr(),annot=True,cmap='RdYlGn',linewidths=0.2)\n",
    "fig=plt.gcf()\n",
    "fig.set_size_inches(20,18)\n",
    "plt.show() "
   ]
  },
  {
   "cell_type": "markdown",
   "metadata": {},
   "source": [
    "# PAIR PLOT"
   ]
  },
  {
   "cell_type": "code",
   "execution_count": null,
   "metadata": {},
   "outputs": [],
   "source": [
    "sns.pairplot(df, hue=\"Result\")\n",
    "plt.show()"
   ]
  },
  {
   "cell_type": "markdown",
   "metadata": {},
   "source": [
    "# Create Two Sets of Dataset one with Fasting_Blood_Glucose and the other with the feature dropped"
   ]
  },
  {
   "cell_type": "code",
   "execution_count": null,
   "metadata": {},
   "outputs": [],
   "source": [
    "df.columns"
   ]
  },
  {
   "cell_type": "code",
   "execution_count": null,
   "metadata": {},
   "outputs": [],
   "source": [
    "df_1 = df[['Fasting Blood Glucose', 'Hct', 'Hgb', 'Mch', 'Mchc', 'Mcv',\n",
    "       'Pdw', 'Plt', 'Rbc', 'Rdw-Cv', 'Rdw-Sd', 'Wbc']]"
   ]
  },
  {
   "cell_type": "code",
   "execution_count": null,
   "metadata": {},
   "outputs": [],
   "source": [
    "df_2 = df[['Hct', 'Hgb', 'Mch', 'Mchc', 'Mcv',\n",
    "       'Pdw', 'Plt', 'Rbc', 'Rdw-Cv', 'Rdw-Sd', 'Wbc']]"
   ]
  },
  {
   "cell_type": "markdown",
   "metadata": {},
   "source": [
    "# Split Dataset into Test and Train"
   ]
  },
  {
   "cell_type": "code",
   "execution_count": null,
   "metadata": {},
   "outputs": [],
   "source": [
    "#data with fasting blood glucose\n",
    "from sklearn.model_selection import train_test_split\n",
    "X1_train, X1_test, y1_train, y1_test = train_test_split(df_1, df['Result'], test_size=0.3) # 70% training and 30% test"
   ]
  },
  {
   "cell_type": "code",
   "execution_count": null,
   "metadata": {},
   "outputs": [],
   "source": [
    "#data without fasting blood glucose\n",
    "X2_train, X2_test, y2_train, y2_test = train_test_split(df_2, df['Result'], test_size=0.3) # 70% training and 30% test"
   ]
  },
  {
   "cell_type": "markdown",
   "metadata": {},
   "source": [
    "# TRAIN WITH RANDOM FOREST"
   ]
  },
  {
   "cell_type": "raw",
   "metadata": {},
   "source": [
    "Training with data that has fasting blood glucose feature using 20 trees in random forest"
   ]
  },
  {
   "cell_type": "code",
   "execution_count": null,
   "metadata": {},
   "outputs": [],
   "source": [
    "#Import Random Forest Model\n",
    "from sklearn.ensemble import RandomForestClassifier\n",
    "\n",
    "#Create a Gaussian Classifier\n",
    "clf=RandomForestClassifier(n_estimators=20)\n",
    "\n",
    "#Train the model using the training sets y_pred=clf.predict(X_test)\n",
    "clf.fit(X1_train,y1_train)\n",
    "\n",
    "y1_predA=clf.predict(X1_test)"
   ]
  },
  {
   "cell_type": "code",
   "execution_count": null,
   "metadata": {},
   "outputs": [],
   "source": [
    "#Import scikit-learn metrics module for accuracy calculation\n",
    "from sklearn import metrics\n",
    "# Model Accuracy, how often is the classifier correct?\n",
    "print(\"Accuracy:\",metrics.accuracy_score(y1_test, y1_predA))\n",
    "print(\"f1 score:\",f1_score(y1_test, y1_predA, zero_division=1))\n",
    "print(\"precision, recall, F-measure and support:\",precision_recall_fscore_support(y1_test, y1_predA, average='macro'))\n"
   ]
  },
  {
   "cell_type": "code",
   "execution_count": null,
   "metadata": {},
   "outputs": [],
   "source": [
    "f,ax=plt.subplots(0,0,figsize=(12,10))\n",
    "\n",
    "y_pred = cross_val_predict(RandomForestClassifier(n_estimators=20),X1_train,y1_train,cv=10)\n",
    "sns.heatmap(confusion_matrix(y1_train,y_pred),annot=True,fmt='2.0f')"
   ]
  },
  {
   "cell_type": "raw",
   "metadata": {},
   "source": [
    "Training with data that has fasting blood glucose feature using 50 trees in random forest"
   ]
  },
  {
   "cell_type": "code",
   "execution_count": null,
   "metadata": {},
   "outputs": [],
   "source": [
    "#Import Random Forest Model\n",
    "from sklearn.ensemble import RandomForestClassifier\n",
    "\n",
    "#Create a Gaussian Classifier\n",
    "clf=RandomForestClassifier(n_estimators=50)\n",
    "\n",
    "#Train the model using the training sets y_pred=clf.predict(X_test)\n",
    "clf.fit(X1_train,y1_train)\n",
    "\n",
    "y1_predB=clf.predict(X1_test)"
   ]
  },
  {
   "cell_type": "code",
   "execution_count": null,
   "metadata": {},
   "outputs": [],
   "source": [
    "f,ax=plt.subplots(0,0,figsize=(12,10))\n",
    "\n",
    "y_pred = cross_val_predict(RandomForestClassifier(n_estimators=50),X1_train,y1_train,cv=10)\n",
    "sns.heatmap(confusion_matrix(y1_train,y_pred),annot=True,fmt='2.0f')\n"
   ]
  },
  {
   "cell_type": "code",
   "execution_count": null,
   "metadata": {},
   "outputs": [],
   "source": [
    "#Import scikit-learn metrics module for accuracy calculation\n",
    "from sklearn import metrics\n",
    "# Model Accuracy, how often is the classifier correct?\n",
    "print(\"Accuracy:\",metrics.accuracy_score(y1_test, y1_predB))\n",
    "print(\"f1 score:\",f1_score(y1_test, y1_predB, zero_division=1))\n",
    "print(\"precision, recall, F-measure and support:\",precision_recall_fscore_support(y1_test, y1_predB, average='macro'))\n"
   ]
  },
  {
   "cell_type": "raw",
   "metadata": {},
   "source": [
    "Training with data that has fasting blood glucose feature using 70 trees in random forest"
   ]
  },
  {
   "cell_type": "code",
   "execution_count": null,
   "metadata": {},
   "outputs": [],
   "source": [
    "#Import Random Forest Model\n",
    "from sklearn.ensemble import RandomForestClassifier\n",
    "\n",
    "#Create a Gaussian Classifier\n",
    "clf=RandomForestClassifier(n_estimators=70)\n",
    "\n",
    "#Train the model using the training sets y_pred=clf.predict(X_test)\n",
    "clf.fit(X1_train,y1_train)\n",
    "\n",
    "y1_predC=clf.predict(X1_test)"
   ]
  },
  {
   "cell_type": "code",
   "execution_count": null,
   "metadata": {},
   "outputs": [],
   "source": [
    "#Import scikit-learn metrics module for accuracy calculation\n",
    "from sklearn import metrics\n",
    "# Model Accuracy, how often is the classifier correct?\n",
    "print(\"Accuracy:\",metrics.accuracy_score(y1_test, y1_predC))\n",
    "print(\"f1 score:\",f1_score(y1_test, y1_predC, zero_division=1))\n",
    "print(\"precision, recall, F-measure and support:\",precision_recall_fscore_support(y1_test, y1_predC, average='macro'))\n"
   ]
  },
  {
   "cell_type": "code",
   "execution_count": null,
   "metadata": {},
   "outputs": [],
   "source": [
    "f,ax=plt.subplots(0,0,figsize=(12,10))\n",
    "\n",
    "y_pred = cross_val_predict(RandomForestClassifier(n_estimators=70),X1_train,y1_train,cv=10)\n",
    "sns.heatmap(confusion_matrix(y1_train,y_pred),annot=True,fmt='2.0f')"
   ]
  },
  {
   "cell_type": "raw",
   "metadata": {},
   "source": [
    "Training with data that has fasting blood glucose feature using 100 trees in random forest"
   ]
  },
  {
   "cell_type": "code",
   "execution_count": null,
   "metadata": {},
   "outputs": [],
   "source": [
    "#Import Random Forest Model\n",
    "from sklearn.ensemble import RandomForestClassifier\n",
    "\n",
    "#Create a Gaussian Classifier\n",
    "clf=RandomForestClassifier(n_estimators=100)\n",
    "\n",
    "#Train the model using the training sets y_pred=clf.predict(X_test)\n",
    "clf.fit(X1_train,y1_train)\n",
    "\n",
    "y1_predD=clf.predict(X1_test)"
   ]
  },
  {
   "cell_type": "code",
   "execution_count": null,
   "metadata": {},
   "outputs": [],
   "source": [
    "#Import scikit-learn metrics module for accuracy calculation\n",
    "from sklearn import metrics\n",
    "# Model Accuracy, how often is the classifier correct?\n",
    "print(\"Accuracy:\",metrics.accuracy_score(y1_test, y1_predD))\n",
    "print(\"f1 score:\",f1_score(y1_test, y1_predD, zero_division=1))\n",
    "print(\"precision, recall, F-measure and support:\",precision_recall_fscore_support(y1_test, y1_predD, average='macro'))\n"
   ]
  },
  {
   "cell_type": "code",
   "execution_count": null,
   "metadata": {},
   "outputs": [],
   "source": [
    "f,ax=plt.subplots(0,0,figsize=(12,10))\n",
    "\n",
    "y_pred = cross_val_predict(RandomForestClassifier(n_estimators=100),X1_train,y1_train,cv=10)\n",
    "sns.heatmap(confusion_matrix(y1_train,y_pred),annot=True,fmt='2.0f')"
   ]
  },
  {
   "cell_type": "raw",
   "metadata": {},
   "source": [
    "Training with data that does not have fasting blood glucose feature with 20 trees in the random forest"
   ]
  },
  {
   "cell_type": "code",
   "execution_count": null,
   "metadata": {},
   "outputs": [],
   "source": [
    "#Import Random Forest Model\n",
    "from sklearn.ensemble import RandomForestClassifier\n",
    "\n",
    "#Create a Gaussian Classifier\n",
    "clf=RandomForestClassifier(n_estimators=20)\n",
    "\n",
    "#Train the model using the training sets y_pred=clf.predict(X_test)\n",
    "clf.fit(X2_train,y2_train)\n",
    "\n",
    "y2_predA=clf.predict(X2_test)"
   ]
  },
  {
   "cell_type": "code",
   "execution_count": null,
   "metadata": {},
   "outputs": [],
   "source": [
    "#Import scikit-learn metrics module for accuracy calculation\n",
    "from sklearn import metrics\n",
    "# Model Accuracy, how often is the classifier correct?\n",
    "print(\"Accuracy:\",metrics.accuracy_score(y2_test, y2_predA))\n",
    "print(\"f1 score:\",f1_score(y2_test, y2_predA, zero_division=1))\n",
    "print(\"precision, recall, F-measure and support:\",precision_recall_fscore_support(y2_test, y2_predA, average='macro'))\n"
   ]
  },
  {
   "cell_type": "code",
   "execution_count": null,
   "metadata": {},
   "outputs": [],
   "source": [
    "f,ax=plt.subplots(0,0,figsize=(12,10))\n",
    "\n",
    "y_pred = cross_val_predict(RandomForestClassifier(n_estimators=20),X2_train,y2_train,cv=10)\n",
    "sns.heatmap(confusion_matrix(y2_train,y_pred),annot=True,fmt='2.0f')"
   ]
  },
  {
   "cell_type": "raw",
   "metadata": {},
   "source": [
    "Training with data that does not have fasting blood glucose feature with 50 trees in the random forest"
   ]
  },
  {
   "cell_type": "code",
   "execution_count": null,
   "metadata": {},
   "outputs": [],
   "source": [
    "#Import Random Forest Model\n",
    "from sklearn.ensemble import RandomForestClassifier\n",
    "\n",
    "#Create a Gaussian Classifier\n",
    "clf=RandomForestClassifier(n_estimators=50)\n",
    "\n",
    "#Train the model using the training sets y_pred=clf.predict(X_test)\n",
    "clf.fit(X2_train,y2_train)\n",
    "\n",
    "y2_predB=clf.predict(X2_test)"
   ]
  },
  {
   "cell_type": "code",
   "execution_count": null,
   "metadata": {},
   "outputs": [],
   "source": [
    "#Import scikit-learn metrics module for accuracy calculation\n",
    "from sklearn import metrics\n",
    "# Model Accuracy, how often is the classifier correct?\n",
    "print(\"Accuracy:\",metrics.accuracy_score(y2_test, y2_predB))\n",
    "print(\"f1 score:\",f1_score(y2_test, y2_predB, zero_division=1))\n",
    "print(\"precision, recall, F-measure and support:\",precision_recall_fscore_support(y2_test, y2_predB, average='macro'))\n"
   ]
  },
  {
   "cell_type": "code",
   "execution_count": null,
   "metadata": {},
   "outputs": [],
   "source": [
    "f,ax=plt.subplots(0,0,figsize=(12,10))\n",
    "\n",
    "y_pred = cross_val_predict(RandomForestClassifier(n_estimators=50),X2_train,y2_train,cv=10)\n",
    "sns.heatmap(confusion_matrix(y2_train,y_pred),annot=True,fmt='2.0f')"
   ]
  },
  {
   "cell_type": "raw",
   "metadata": {},
   "source": [
    "Training with data that does not have fasting blood glucose feature with 70 trees in the random forest"
   ]
  },
  {
   "cell_type": "code",
   "execution_count": null,
   "metadata": {},
   "outputs": [],
   "source": [
    "#Import Random Forest Model\n",
    "from sklearn.ensemble import RandomForestClassifier\n",
    "\n",
    "#Create a Gaussian Classifier\n",
    "clf=RandomForestClassifier(n_estimators=70)\n",
    "\n",
    "#Train the model using the training sets y_pred=clf.predict(X_test)\n",
    "clf.fit(X2_train,y2_train)\n",
    "\n",
    "y2_predC=clf.predict(X2_test)"
   ]
  },
  {
   "cell_type": "code",
   "execution_count": null,
   "metadata": {},
   "outputs": [],
   "source": [
    "#Import scikit-learn metrics module for accuracy calculation\n",
    "from sklearn import metrics\n",
    "# Model Accuracy, how often is the classifier correct?\n",
    "print(\"Accuracy:\",metrics.accuracy_score(y2_test, y2_predC))\n",
    "print(\"f1 score:\",f1_score(y2_test, y2_predC, zero_division=1))\n",
    "print(\"precision, recall, F-measure and support:\",precision_recall_fscore_support(y2_test, y2_predC, average='macro'))\n"
   ]
  },
  {
   "cell_type": "code",
   "execution_count": null,
   "metadata": {},
   "outputs": [],
   "source": [
    "f,ax=plt.subplots(0,0,figsize=(12,10))\n",
    "\n",
    "y_pred = cross_val_predict(RandomForestClassifier(n_estimators=70),X2_train,y2_train,cv=10)\n",
    "sns.heatmap(confusion_matrix(y2_train,y_pred),annot=True,fmt='2.0f')"
   ]
  },
  {
   "cell_type": "raw",
   "metadata": {},
   "source": [
    "Training with data that does not have fasting blood glucose feature with 100 trees in the random forest"
   ]
  },
  {
   "cell_type": "code",
   "execution_count": null,
   "metadata": {},
   "outputs": [],
   "source": [
    "#Import Random Forest Model\n",
    "from sklearn.ensemble import RandomForestClassifier\n",
    "\n",
    "#Create a Gaussian Classifier\n",
    "clf=RandomForestClassifier(n_estimators=100)\n",
    "\n",
    "#Train the model using the training sets y_pred=clf.predict(X_test)\n",
    "clf.fit(X2_train,y2_train)\n",
    "\n",
    "y2_predD=clf.predict(X2_test)"
   ]
  },
  {
   "cell_type": "code",
   "execution_count": null,
   "metadata": {},
   "outputs": [],
   "source": [
    "#Import scikit-learn metrics module for accuracy calculation\n",
    "from sklearn import metrics\n",
    "# Model Accuracy, how often is the classifier correct?\n",
    "print(\"Accuracy:\",metrics.accuracy_score(y2_test, y2_predD))\n",
    "print(\"f1 score:\",f1_score(y2_test, y2_predD, zero_division=1))\n",
    "print(\"precision, recall, F-measure and support:\",precision_recall_fscore_support(y2_test, y2_predD, average='macro'))\n"
   ]
  },
  {
   "cell_type": "code",
   "execution_count": null,
   "metadata": {},
   "outputs": [],
   "source": [
    "f,ax=plt.subplots(0,0,figsize=(12,10))\n",
    "\n",
    "y_pred = cross_val_predict(RandomForestClassifier(n_estimators=100),X2_train,y2_train,cv=10)\n",
    "sns.heatmap(confusion_matrix(y2_train,y_pred),annot=True,fmt='2.0f')"
   ]
  },
  {
   "cell_type": "markdown",
   "metadata": {},
   "source": [
    "# Using Naive Bayes for Data with Fasting Blood Glucose\n"
   ]
  },
  {
   "cell_type": "code",
   "execution_count": null,
   "metadata": {},
   "outputs": [],
   "source": [
    "from sklearn.naive_bayes import GaussianNB"
   ]
  },
  {
   "cell_type": "code",
   "execution_count": null,
   "metadata": {},
   "outputs": [],
   "source": [
    "#Create a Gaussian Classifier\n",
    "gnb = GaussianNB()\n",
    "\n",
    "#Train the model using the training sets\n",
    "gnb.fit(X1_train, y1_train)\n",
    "\n",
    "#Predict the response for test dataset\n",
    "y1_pred = gnb.predict(X1_test)"
   ]
  },
  {
   "cell_type": "code",
   "execution_count": null,
   "metadata": {},
   "outputs": [],
   "source": [
    "#Import scikit-learn metrics module for accuracy calculation\n",
    "from sklearn import metrics\n",
    "# Model Accuracy, how often is the classifier correct?\n",
    "print(\"Accuracy:\",metrics.accuracy_score(y1_test, y1_pred))\n",
    "print(\"f1 score:\",f1_score(y1_test, y1_pred, zero_division=1))\n",
    "print(\"precision, recall, F-measure and support:\",precision_recall_fscore_support(y1_test, y1_pred, average='macro'))\n"
   ]
  },
  {
   "cell_type": "markdown",
   "metadata": {},
   "source": [
    "# Using Naive Bayes for Data without Fasting Blood Glucose"
   ]
  },
  {
   "cell_type": "code",
   "execution_count": null,
   "metadata": {},
   "outputs": [],
   "source": [
    "from sklearn.naive_bayes import GaussianNB"
   ]
  },
  {
   "cell_type": "code",
   "execution_count": null,
   "metadata": {},
   "outputs": [],
   "source": [
    "#Create a Gaussian Classifier\n",
    "gnb = GaussianNB()\n",
    "\n",
    "#Train the model using the training sets\n",
    "gnb.fit(X2_train, y2_train)\n",
    "\n",
    "#Predict the response for test dataset\n",
    "y2_pred = gnb.predict(X2_test)"
   ]
  },
  {
   "cell_type": "code",
   "execution_count": null,
   "metadata": {},
   "outputs": [],
   "source": [
    "#Import scikit-learn metrics module for accuracy calculation\n",
    "from sklearn import metrics\n",
    "# Model Accuracy, how often is the classifier correct?\n",
    "print(\"Accuracy:\",metrics.accuracy_score(y2_test, y2_pred))\n",
    "print(\"f1 score:\",f1_score(y2_test, y2_pred, zero_division=1))\n",
    "print(\"precision, recall, F-measure and support:\",precision_recall_fscore_support(y2_test, y2_pred, average='macro'))\n"
   ]
  },
  {
   "cell_type": "markdown",
   "metadata": {},
   "source": [
    "# USING SUPPORT VECTOR MACHINE ON DATA WITH FASTING BLOOD GLUCOSE"
   ]
  },
  {
   "cell_type": "code",
   "execution_count": null,
   "metadata": {},
   "outputs": [],
   "source": [
    "from sklearn.svm import SVC\n",
    "svclassifier_1 = SVC(kernel='linear')\n",
    "svclassifier_1.fit(X1_train, y1_train)"
   ]
  },
  {
   "cell_type": "code",
   "execution_count": null,
   "metadata": {},
   "outputs": [],
   "source": [
    "y1_pred_SVM = svclassifier_1.predict(X1_test)"
   ]
  },
  {
   "cell_type": "code",
   "execution_count": null,
   "metadata": {},
   "outputs": [],
   "source": [
    "#Import scikit-learn metrics module for accuracy calculation\n",
    "from sklearn import metrics\n",
    "# Model Accuracy, how often is the classifier correct?\n",
    "print(\"Accuracy:\",metrics.accuracy_score(y1_test, y1_pred_SVM))\n",
    "print(\"f1 score:\",f1_score(y1_test, y1_pred_SVM, zero_division=1))\n",
    "print(\"precision, recall, F-measure and support:\",precision_recall_fscore_support(y1_test, y1_pred_SVM, average='macro'))\n"
   ]
  },
  {
   "cell_type": "markdown",
   "metadata": {},
   "source": [
    "# USING SUPPORT VECTOR MACHINE ON DATA WITHOUTH FASTING BLOOD GLUCOSE\n"
   ]
  },
  {
   "cell_type": "code",
   "execution_count": null,
   "metadata": {},
   "outputs": [],
   "source": [
    "from sklearn.svm import SVC\n",
    "svclassifier_1 = SVC(kernel='linear')\n",
    "svclassifier_1.fit(X2_train, y2_train)"
   ]
  },
  {
   "cell_type": "code",
   "execution_count": null,
   "metadata": {},
   "outputs": [],
   "source": [
    "y2_pred_SVM = svclassifier_1.predict(X2_test)"
   ]
  },
  {
   "cell_type": "code",
   "execution_count": null,
   "metadata": {},
   "outputs": [],
   "source": [
    "#Import scikit-learn metrics module for accuracy calculation\n",
    "from sklearn import metrics\n",
    "# Model Accuracy, how often is the classifier correct?\n",
    "print(\"Accuracy:\",metrics.accuracy_score(y2_test, y2_pred_SVM))\n",
    "print(\"f1 score:\",f1_score(y2_test, y2_pred_SVM, zero_division=1))\n",
    "print(\"precision, recall, F-measure and support:\",precision_recall_fscore_support(y2_test, y2_pred_SVM, average='macro'))\n"
   ]
  },
  {
   "cell_type": "markdown",
   "metadata": {},
   "source": [
    "# USING DECISION TREE ON DATA WITHOUTH FASTING BLOOD GLUCOSE\n"
   ]
  },
  {
   "cell_type": "code",
   "execution_count": null,
   "metadata": {},
   "outputs": [],
   "source": [
    "from sklearn.tree import DecisionTreeClassifier"
   ]
  },
  {
   "cell_type": "code",
   "execution_count": null,
   "metadata": {},
   "outputs": [],
   "source": [
    "# Create Decision Tree classifer object\n",
    "clf = DecisionTreeClassifier()\n",
    "\n",
    "# Train Decision Tree Classifer\n",
    "clf = clf.fit(X1_train, y1_train)\n",
    "\n",
    "#Predict the response for test dataset\n",
    "y_pred = clf.predict(X1_test)"
   ]
  },
  {
   "cell_type": "code",
   "execution_count": null,
   "metadata": {},
   "outputs": [],
   "source": [
    "#Import scikit-learn metrics module for accuracy calculation\n",
    "from sklearn import metrics\n",
    "# Model Accuracy, how often is the classifier correct?\n",
    "print(\"Accuracy:\",metrics.accuracy_score(y1_test, y_pred))\n",
    "print(\"f1 score:\",f1_score(y1_test, y_pred, zero_division=1))\n",
    "print(\"precision, recall, F-measure and support:\",precision_recall_fscore_support(y1_test, y_pred, average='macro'))\n"
   ]
  },
  {
   "cell_type": "markdown",
   "metadata": {},
   "source": [
    "# USING DECISION TREE ON DATA WITHOUTH FASTING BLOOD GLUCOSE\n"
   ]
  },
  {
   "cell_type": "code",
   "execution_count": null,
   "metadata": {},
   "outputs": [],
   "source": [
    "from sklearn.tree import DecisionTreeClassifier"
   ]
  },
  {
   "cell_type": "code",
   "execution_count": null,
   "metadata": {},
   "outputs": [],
   "source": [
    "# Create Decision Tree classifer object\n",
    "clf = DecisionTreeClassifier()\n",
    "\n",
    "# Train Decision Tree Classifer\n",
    "clf = clf.fit(X2_train, y2_train)\n",
    "\n",
    "#Predict the response for test dataset\n",
    "y_pred = clf.predict(X2_test)"
   ]
  },
  {
   "cell_type": "code",
   "execution_count": null,
   "metadata": {},
   "outputs": [],
   "source": [
    "#Import scikit-learn metrics module for accuracy calculation\n",
    "from sklearn import metrics\n",
    "# Model Accuracy, how often is the classifier correct?\n",
    "print(\"Accuracy:\",metrics.accuracy_score(y2_test, y_pred))\n",
    "print(\"f1 score:\",f1_score(y2_test, y2_pred, zero_division=1))\n",
    "print(\"precision, recall, F-measure and support:\",precision_recall_fscore_support(y2_test, y2_pred, average='macro'))\n"
   ]
  },
  {
   "cell_type": "markdown",
   "metadata": {},
   "source": [
    "# USING K NEAREST NEIGBOUR CLASSIFIER ON DATA WITH FASTING BLOOD GLUCOSE"
   ]
  },
  {
   "cell_type": "code",
   "execution_count": null,
   "metadata": {},
   "outputs": [],
   "source": [
    "from sklearn.neighbors import KNeighborsClassifier "
   ]
  },
  {
   "cell_type": "code",
   "execution_count": null,
   "metadata": {},
   "outputs": [],
   "source": [
    "model = KNeighborsClassifier() \n",
    "model.fit(X1_train,y1_train)\n",
    "y_pred = model.predict(X1_test)"
   ]
  },
  {
   "cell_type": "code",
   "execution_count": null,
   "metadata": {},
   "outputs": [],
   "source": [
    "#Import scikit-learn metrics module for accuracy calculation\n",
    "from sklearn import metrics\n",
    "# Model Accuracy, how often is the classifier correct?\n",
    "print(\"Accuracy:\",metrics.accuracy_score(y1_test, y_pred))\n",
    "print(\"f1 score:\",f1_score(y1_test, y_pred, zero_division=1))\n",
    "print(\"precision, recall, F-measure and support:\",precision_recall_fscore_support(y1_test, y_pred, average='macro'))\n"
   ]
  },
  {
   "cell_type": "markdown",
   "metadata": {},
   "source": [
    "# USING K NEAREST NEIGBOUR CLASSIFIER ON DATA WITHOUT FASTING BLOOD GLUCOSE"
   ]
  },
  {
   "cell_type": "code",
   "execution_count": null,
   "metadata": {},
   "outputs": [],
   "source": [
    "from sklearn.neighbors import KNeighborsClassifier "
   ]
  },
  {
   "cell_type": "code",
   "execution_count": null,
   "metadata": {},
   "outputs": [],
   "source": [
    "model = KNeighborsClassifier() \n",
    "model.fit(X2_train,y2_train)\n",
    "y_pred = model.predict(X2_test)"
   ]
  },
  {
   "cell_type": "code",
   "execution_count": null,
   "metadata": {},
   "outputs": [],
   "source": [
    "#Import scikit-learn metrics module for accuracy calculation\n",
    "from sklearn import metrics\n",
    "# Model Accuracy, how often is the classifier correct?\n",
    "print(\"Accuracy:\",metrics.accuracy_score(y2_test, y_pred))\n",
    "print(\"f1 score:\",f1_score(y2_test, y_pred, zero_division=1))\n",
    "print(\"precision, recall, F-measure and support:\",precision_recall_fscore_support(y2_test, y_pred, average='macro'))\n"
   ]
  },
  {
   "cell_type": "code",
   "execution_count": null,
   "metadata": {},
   "outputs": [],
   "source": []
  }
 ],
 "metadata": {
  "kernelspec": {
   "display_name": "Python 3",
   "language": "python",
   "name": "python3"
  },
  "language_info": {
   "codemirror_mode": {
    "name": "ipython",
    "version": 3
   },
   "file_extension": ".py",
   "mimetype": "text/x-python",
   "name": "python",
   "nbconvert_exporter": "python",
   "pygments_lexer": "ipython3",
   "version": "3.7.6"
  }
 },
 "nbformat": 4,
 "nbformat_minor": 4
}
